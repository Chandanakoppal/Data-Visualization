{
 "cells": [
  {
   "cell_type": "code",
   "execution_count": null,
   "metadata": {},
   "outputs": [],
   "source": [
    "import numpy as np\n",
    "from pandas import DataFrame\n",
    "import pandas as pd\n",
    "df1 = pd.read_csv('south_pen-India_rainfall_act_dep_1901_2016.csv')\n",
    "df2 = pd.read_csv('ne-India_rainfall_act_dep_1901_2016.csv')\n",
    "df3 = pd.read_csv('nw-India_rainfall_act_dep_1901_2016.csv')\n",
    "df4 = pd.read_csv('central-India_rainfall_act_dep_1901_2016.csv')"
   ]
  },
  {
   "cell_type": "code",
   "execution_count": 100,
   "metadata": {},
   "outputs": [],
   "source": [
    "df1 = df.applymap(lambda x: x.strip() if isinstance(x,str) else x)"
   ]
  },
  {
   "cell_type": "code",
   "execution_count": 101,
   "metadata": {},
   "outputs": [
    {
     "data": {
      "text/html": [
       "<div>\n",
       "<style>\n",
       "    .dataframe thead tr:only-child th {\n",
       "        text-align: right;\n",
       "    }\n",
       "\n",
       "    .dataframe thead th {\n",
       "        text-align: left;\n",
       "    }\n",
       "\n",
       "    .dataframe tbody tr th {\n",
       "        vertical-align: top;\n",
       "    }\n",
       "</style>\n",
       "<table border=\"1\" class=\"dataframe\">\n",
       "  <thead>\n",
       "    <tr style=\"text-align: right;\">\n",
       "      <th></th>\n",
       "      <th>YEAR</th>\n",
       "    </tr>\n",
       "  </thead>\n",
       "  <tbody>\n",
       "    <tr>\n",
       "      <th>90</th>\n",
       "      <td>1991</td>\n",
       "    </tr>\n",
       "  </tbody>\n",
       "</table>\n",
       "</div>"
      ],
      "text/plain": [
       "    YEAR\n",
       "90  1991"
      ]
     },
     "execution_count": 101,
     "metadata": {},
     "output_type": "execute_result"
    }
   ],
   "source": [
    "df1[df1['Actual Rainfall: JUN']==df1['Actual Rainfall: JUN'].max()][['YEAR']]"
   ]
  },
  {
   "cell_type": "code",
   "execution_count": null,
   "metadata": {},
   "outputs": [],
   "source": []
  },
  {
   "cell_type": "code",
   "execution_count": 124,
   "metadata": {},
   "outputs": [
    {
     "data": {
      "text/plain": [
       "61     1962\n",
       "75     1976\n",
       "113    2014\n",
       "73     1974\n",
       "108    2009\n",
       "Name: YEAR, dtype: int64"
      ]
     },
     "execution_count": 124,
     "metadata": {},
     "output_type": "execute_result"
    }
   ],
   "source": [
    "\n",
    "south=df1.sort_values(['Actual Rainfall: JUN','Actual Rainfall: JUL','Actual Rainfall: AUG','Actual Rainfall: SEPT'], ascending=[True, True,True,True])\n",
    "c1=south['YEAR'].head()\n",
    "c1"
   ]
  },
  {
   "cell_type": "code",
   "execution_count": 125,
   "metadata": {},
   "outputs": [
    {
     "data": {
      "text/plain": [
       "108    2009\n",
       "74     1975\n",
       "104    2005\n",
       "91     1992\n",
       "4      1905\n",
       "Name: YEAR, dtype: int64"
      ]
     },
     "execution_count": 125,
     "metadata": {},
     "output_type": "execute_result"
    }
   ],
   "source": [
    "df2 = pd.read_csv('ne-India_rainfall_act_dep_1901_2016.csv')\n",
    "ne=df2.sort_values(['Actual Rainfall: JUN','Actual Rainfall: JUL','Actual Rainfall: AUG','Actual Rainfall: SEPT'], ascending=[True, True,True,True])\n",
    "c2=ne['YEAR'].head()\n",
    "c2"
   ]
  },
  {
   "cell_type": "code",
   "execution_count": 126,
   "metadata": {},
   "outputs": [
    {
     "data": {
      "text/plain": [
       "25     1926\n",
       "30     1931\n",
       "23     1924\n",
       "111    2012\n",
       "64     1965\n",
       "Name: YEAR, dtype: int64"
      ]
     },
     "execution_count": 126,
     "metadata": {},
     "output_type": "execute_result"
    }
   ],
   "source": [
    "df3 = pd.read_csv('nw-India_rainfall_act_dep_1901_2016.csv')\n",
    "nw=df3.sort_values(['Actual Rainfall: JUN','Actual Rainfall: JUL','Actual Rainfall: AUG','Actual Rainfall: SEPT'], ascending=[True, True,True,True])\n",
    "c3=nw['YEAR'].head()\n",
    "c3"
   ]
  },
  {
   "cell_type": "code",
   "execution_count": 127,
   "metadata": {},
   "outputs": [
    {
     "data": {
      "text/plain": [
       "22     1923\n",
       "25     1926\n",
       "4      1905\n",
       "1      1902\n",
       "113    2014\n",
       "Name: YEAR, dtype: int64"
      ]
     },
     "execution_count": 127,
     "metadata": {},
     "output_type": "execute_result"
    }
   ],
   "source": [
    "df4 = pd.read_csv('central-India_rainfall_act_dep_1901_2016.csv')\n",
    "c=df4.sort_values(['Actual Rainfall: JUN','Actual Rainfall: JUL','Actual Rainfall: AUG','Actual Rainfall: SEPT'], ascending=[True, True,True,True])\n",
    "c4=c['YEAR'].head()\n",
    "c4"
   ]
  },
  {
   "cell_type": "code",
   "execution_count": 135,
   "metadata": {},
   "outputs": [
    {
     "data": {
      "text/html": [
       "<div>\n",
       "<style>\n",
       "    .dataframe thead tr:only-child th {\n",
       "        text-align: right;\n",
       "    }\n",
       "\n",
       "    .dataframe thead th {\n",
       "        text-align: left;\n",
       "    }\n",
       "\n",
       "    .dataframe tbody tr th {\n",
       "        vertical-align: top;\n",
       "    }\n",
       "</style>\n",
       "<table border=\"1\" class=\"dataframe\">\n",
       "  <thead>\n",
       "    <tr style=\"text-align: right;\">\n",
       "      <th></th>\n",
       "      <th>YEAR</th>\n",
       "      <th>Actual Rainfall: JUN</th>\n",
       "      <th>Actual Rainfall: JUL</th>\n",
       "      <th>Actual Rainfall: AUG</th>\n",
       "      <th>Actual Rainfall: SEPT</th>\n",
       "      <th>Actual Rainfall: JUN-SEPT</th>\n",
       "      <th>Departure Percentage: JUN</th>\n",
       "      <th>Departure Percentage: JUL</th>\n",
       "      <th>Departure Percentage: AUG</th>\n",
       "      <th>Departure Percentage: SEP</th>\n",
       "      <th>Departure Percentage: JUN-SEPT</th>\n",
       "      <th>YEAR</th>\n",
       "      <th>YEAR</th>\n",
       "      <th>YEAR</th>\n",
       "    </tr>\n",
       "  </thead>\n",
       "  <tbody>\n",
       "    <tr>\n",
       "      <th>1</th>\n",
       "      <td>1902.0</td>\n",
       "      <td>62.3</td>\n",
       "      <td>334.2</td>\n",
       "      <td>237.6</td>\n",
       "      <td>216.0</td>\n",
       "      <td>850.0</td>\n",
       "      <td>-62.4</td>\n",
       "      <td>-4.8</td>\n",
       "      <td>-15.1</td>\n",
       "      <td>16.8</td>\n",
       "      <td>-13.4</td>\n",
       "      <td>0.0</td>\n",
       "      <td>0.0</td>\n",
       "      <td>1902.0</td>\n",
       "    </tr>\n",
       "    <tr>\n",
       "      <th>4</th>\n",
       "      <td>1905.0</td>\n",
       "      <td>59.8</td>\n",
       "      <td>340.6</td>\n",
       "      <td>178.9</td>\n",
       "      <td>204.1</td>\n",
       "      <td>783.4</td>\n",
       "      <td>-64.4</td>\n",
       "      <td>-3.2</td>\n",
       "      <td>-36.0</td>\n",
       "      <td>9.5</td>\n",
       "      <td>-20.5</td>\n",
       "      <td>1905.0</td>\n",
       "      <td>0.0</td>\n",
       "      <td>1905.0</td>\n",
       "    </tr>\n",
       "    <tr>\n",
       "      <th>22</th>\n",
       "      <td>1923.0</td>\n",
       "      <td>43.6</td>\n",
       "      <td>398.8</td>\n",
       "      <td>299.5</td>\n",
       "      <td>192.4</td>\n",
       "      <td>934.3</td>\n",
       "      <td>-74.2</td>\n",
       "      <td>13.3</td>\n",
       "      <td>6.4</td>\n",
       "      <td>3.9</td>\n",
       "      <td>-5.4</td>\n",
       "      <td>0.0</td>\n",
       "      <td>0.0</td>\n",
       "      <td>1923.0</td>\n",
       "    </tr>\n",
       "    <tr>\n",
       "      <th>23</th>\n",
       "      <td>0.0</td>\n",
       "      <td>0.0</td>\n",
       "      <td>0.0</td>\n",
       "      <td>0.0</td>\n",
       "      <td>0.0</td>\n",
       "      <td>0.0</td>\n",
       "      <td>0.0</td>\n",
       "      <td>0.0</td>\n",
       "      <td>0.0</td>\n",
       "      <td>0.0</td>\n",
       "      <td>0.0</td>\n",
       "      <td>0.0</td>\n",
       "      <td>1924.0</td>\n",
       "      <td>0.0</td>\n",
       "    </tr>\n",
       "    <tr>\n",
       "      <th>25</th>\n",
       "      <td>1926.0</td>\n",
       "      <td>51.4</td>\n",
       "      <td>327.7</td>\n",
       "      <td>465.0</td>\n",
       "      <td>271.3</td>\n",
       "      <td>1115.3</td>\n",
       "      <td>-69.8</td>\n",
       "      <td>-8.0</td>\n",
       "      <td>64.0</td>\n",
       "      <td>45.7</td>\n",
       "      <td>12.0</td>\n",
       "      <td>0.0</td>\n",
       "      <td>1926.0</td>\n",
       "      <td>1926.0</td>\n",
       "    </tr>\n",
       "    <tr>\n",
       "      <th>30</th>\n",
       "      <td>0.0</td>\n",
       "      <td>0.0</td>\n",
       "      <td>0.0</td>\n",
       "      <td>0.0</td>\n",
       "      <td>0.0</td>\n",
       "      <td>0.0</td>\n",
       "      <td>0.0</td>\n",
       "      <td>0.0</td>\n",
       "      <td>0.0</td>\n",
       "      <td>0.0</td>\n",
       "      <td>0.0</td>\n",
       "      <td>0.0</td>\n",
       "      <td>1931.0</td>\n",
       "      <td>0.0</td>\n",
       "    </tr>\n",
       "    <tr>\n",
       "      <th>64</th>\n",
       "      <td>0.0</td>\n",
       "      <td>0.0</td>\n",
       "      <td>0.0</td>\n",
       "      <td>0.0</td>\n",
       "      <td>0.0</td>\n",
       "      <td>0.0</td>\n",
       "      <td>0.0</td>\n",
       "      <td>0.0</td>\n",
       "      <td>0.0</td>\n",
       "      <td>0.0</td>\n",
       "      <td>0.0</td>\n",
       "      <td>0.0</td>\n",
       "      <td>1965.0</td>\n",
       "      <td>0.0</td>\n",
       "    </tr>\n",
       "    <tr>\n",
       "      <th>74</th>\n",
       "      <td>0.0</td>\n",
       "      <td>0.0</td>\n",
       "      <td>0.0</td>\n",
       "      <td>0.0</td>\n",
       "      <td>0.0</td>\n",
       "      <td>0.0</td>\n",
       "      <td>0.0</td>\n",
       "      <td>0.0</td>\n",
       "      <td>0.0</td>\n",
       "      <td>0.0</td>\n",
       "      <td>0.0</td>\n",
       "      <td>1975.0</td>\n",
       "      <td>0.0</td>\n",
       "      <td>0.0</td>\n",
       "    </tr>\n",
       "    <tr>\n",
       "      <th>91</th>\n",
       "      <td>0.0</td>\n",
       "      <td>0.0</td>\n",
       "      <td>0.0</td>\n",
       "      <td>0.0</td>\n",
       "      <td>0.0</td>\n",
       "      <td>0.0</td>\n",
       "      <td>0.0</td>\n",
       "      <td>0.0</td>\n",
       "      <td>0.0</td>\n",
       "      <td>0.0</td>\n",
       "      <td>0.0</td>\n",
       "      <td>1992.0</td>\n",
       "      <td>0.0</td>\n",
       "      <td>0.0</td>\n",
       "    </tr>\n",
       "    <tr>\n",
       "      <th>104</th>\n",
       "      <td>0.0</td>\n",
       "      <td>0.0</td>\n",
       "      <td>0.0</td>\n",
       "      <td>0.0</td>\n",
       "      <td>0.0</td>\n",
       "      <td>0.0</td>\n",
       "      <td>0.0</td>\n",
       "      <td>0.0</td>\n",
       "      <td>0.0</td>\n",
       "      <td>0.0</td>\n",
       "      <td>0.0</td>\n",
       "      <td>2005.0</td>\n",
       "      <td>0.0</td>\n",
       "      <td>0.0</td>\n",
       "    </tr>\n",
       "    <tr>\n",
       "      <th>108</th>\n",
       "      <td>0.0</td>\n",
       "      <td>0.0</td>\n",
       "      <td>0.0</td>\n",
       "      <td>0.0</td>\n",
       "      <td>0.0</td>\n",
       "      <td>0.0</td>\n",
       "      <td>0.0</td>\n",
       "      <td>0.0</td>\n",
       "      <td>0.0</td>\n",
       "      <td>0.0</td>\n",
       "      <td>0.0</td>\n",
       "      <td>2009.0</td>\n",
       "      <td>0.0</td>\n",
       "      <td>0.0</td>\n",
       "    </tr>\n",
       "    <tr>\n",
       "      <th>111</th>\n",
       "      <td>0.0</td>\n",
       "      <td>0.0</td>\n",
       "      <td>0.0</td>\n",
       "      <td>0.0</td>\n",
       "      <td>0.0</td>\n",
       "      <td>0.0</td>\n",
       "      <td>0.0</td>\n",
       "      <td>0.0</td>\n",
       "      <td>0.0</td>\n",
       "      <td>0.0</td>\n",
       "      <td>0.0</td>\n",
       "      <td>0.0</td>\n",
       "      <td>2012.0</td>\n",
       "      <td>0.0</td>\n",
       "    </tr>\n",
       "    <tr>\n",
       "      <th>113</th>\n",
       "      <td>2014.0</td>\n",
       "      <td>64.6</td>\n",
       "      <td>358.5</td>\n",
       "      <td>256.4</td>\n",
       "      <td>201.1</td>\n",
       "      <td>880.5</td>\n",
       "      <td>-60.6</td>\n",
       "      <td>10.6</td>\n",
       "      <td>-15.9</td>\n",
       "      <td>11.0</td>\n",
       "      <td>-9.6</td>\n",
       "      <td>0.0</td>\n",
       "      <td>0.0</td>\n",
       "      <td>2014.0</td>\n",
       "    </tr>\n",
       "  </tbody>\n",
       "</table>\n",
       "</div>"
      ],
      "text/plain": [
       "       YEAR  Actual Rainfall: JUN  Actual Rainfall: JUL  Actual Rainfall: AUG  \\\n",
       "1    1902.0                  62.3                 334.2                 237.6   \n",
       "4    1905.0                  59.8                 340.6                 178.9   \n",
       "22   1923.0                  43.6                 398.8                 299.5   \n",
       "23      0.0                   0.0                   0.0                   0.0   \n",
       "25   1926.0                  51.4                 327.7                 465.0   \n",
       "30      0.0                   0.0                   0.0                   0.0   \n",
       "64      0.0                   0.0                   0.0                   0.0   \n",
       "74      0.0                   0.0                   0.0                   0.0   \n",
       "91      0.0                   0.0                   0.0                   0.0   \n",
       "104     0.0                   0.0                   0.0                   0.0   \n",
       "108     0.0                   0.0                   0.0                   0.0   \n",
       "111     0.0                   0.0                   0.0                   0.0   \n",
       "113  2014.0                  64.6                 358.5                 256.4   \n",
       "\n",
       "     Actual Rainfall: SEPT  Actual Rainfall: JUN-SEPT  \\\n",
       "1                    216.0                      850.0   \n",
       "4                    204.1                      783.4   \n",
       "22                   192.4                      934.3   \n",
       "23                     0.0                        0.0   \n",
       "25                   271.3                     1115.3   \n",
       "30                     0.0                        0.0   \n",
       "64                     0.0                        0.0   \n",
       "74                     0.0                        0.0   \n",
       "91                     0.0                        0.0   \n",
       "104                    0.0                        0.0   \n",
       "108                    0.0                        0.0   \n",
       "111                    0.0                        0.0   \n",
       "113                  201.1                      880.5   \n",
       "\n",
       "     Departure Percentage: JUN  Departure Percentage: JUL  \\\n",
       "1                        -62.4                       -4.8   \n",
       "4                        -64.4                       -3.2   \n",
       "22                       -74.2                       13.3   \n",
       "23                         0.0                        0.0   \n",
       "25                       -69.8                       -8.0   \n",
       "30                         0.0                        0.0   \n",
       "64                         0.0                        0.0   \n",
       "74                         0.0                        0.0   \n",
       "91                         0.0                        0.0   \n",
       "104                        0.0                        0.0   \n",
       "108                        0.0                        0.0   \n",
       "111                        0.0                        0.0   \n",
       "113                      -60.6                       10.6   \n",
       "\n",
       "     Departure Percentage: AUG  Departure Percentage: SEP  \\\n",
       "1                        -15.1                       16.8   \n",
       "4                        -36.0                        9.5   \n",
       "22                         6.4                        3.9   \n",
       "23                         0.0                        0.0   \n",
       "25                        64.0                       45.7   \n",
       "30                         0.0                        0.0   \n",
       "64                         0.0                        0.0   \n",
       "74                         0.0                        0.0   \n",
       "91                         0.0                        0.0   \n",
       "104                        0.0                        0.0   \n",
       "108                        0.0                        0.0   \n",
       "111                        0.0                        0.0   \n",
       "113                      -15.9                       11.0   \n",
       "\n",
       "     Departure Percentage: JUN-SEPT    YEAR    YEAR    YEAR  \n",
       "1                             -13.4     0.0     0.0  1902.0  \n",
       "4                             -20.5  1905.0     0.0  1905.0  \n",
       "22                             -5.4     0.0     0.0  1923.0  \n",
       "23                              0.0     0.0  1924.0     0.0  \n",
       "25                             12.0     0.0  1926.0  1926.0  \n",
       "30                              0.0     0.0  1931.0     0.0  \n",
       "64                              0.0     0.0  1965.0     0.0  \n",
       "74                              0.0  1975.0     0.0     0.0  \n",
       "91                              0.0  1992.0     0.0     0.0  \n",
       "104                             0.0  2005.0     0.0     0.0  \n",
       "108                             0.0  2009.0     0.0     0.0  \n",
       "111                             0.0     0.0  2012.0     0.0  \n",
       "113                            -9.6     0.0     0.0  2014.0  "
      ]
     },
     "execution_count": 135,
     "metadata": {},
     "output_type": "execute_result"
    }
   ],
   "source": [
    "c1=c.head()\n",
    "c1\n",
    "r= pd.concat([c1,c2,c3,c4], axis=1)\n",
    "\n",
    "r.fillna(0, inplace=True)\n",
    "r"
   ]
  },
  {
   "cell_type": "code",
   "execution_count": null,
   "metadata": {
    "collapsed": true
   },
   "outputs": [],
   "source": []
  },
  {
   "cell_type": "code",
   "execution_count": null,
   "metadata": {},
   "outputs": [],
   "source": [
    "nr = input(\"Enter region\")"
   ]
  },
  {
   "cell_type": "code",
   "execution_count": 129,
   "metadata": {},
   "outputs": [
    {
     "ename": "KeyboardInterrupt",
     "evalue": "",
     "output_type": "error",
     "traceback": [
      "\u001b[0;31m---------------------------------------------------------------------------\u001b[0m",
      "\u001b[0;31mKeyboardInterrupt\u001b[0m                         Traceback (most recent call last)",
      "\u001b[0;32m~/anaconda3/lib/python3.6/site-packages/ipykernel/kernelbase.py\u001b[0m in \u001b[0;36m_input_request\u001b[0;34m(self, prompt, ident, parent, password)\u001b[0m\n\u001b[1;32m    729\u001b[0m             \u001b[0;32mtry\u001b[0m\u001b[0;34m:\u001b[0m\u001b[0;34m\u001b[0m\u001b[0m\n\u001b[0;32m--> 730\u001b[0;31m                 \u001b[0mident\u001b[0m\u001b[0;34m,\u001b[0m \u001b[0mreply\u001b[0m \u001b[0;34m=\u001b[0m \u001b[0mself\u001b[0m\u001b[0;34m.\u001b[0m\u001b[0msession\u001b[0m\u001b[0;34m.\u001b[0m\u001b[0mrecv\u001b[0m\u001b[0;34m(\u001b[0m\u001b[0mself\u001b[0m\u001b[0;34m.\u001b[0m\u001b[0mstdin_socket\u001b[0m\u001b[0;34m,\u001b[0m \u001b[0;36m0\u001b[0m\u001b[0;34m)\u001b[0m\u001b[0;34m\u001b[0m\u001b[0m\n\u001b[0m\u001b[1;32m    731\u001b[0m             \u001b[0;32mexcept\u001b[0m \u001b[0mException\u001b[0m\u001b[0;34m:\u001b[0m\u001b[0;34m\u001b[0m\u001b[0m\n",
      "\u001b[0;32m~/anaconda3/lib/python3.6/site-packages/jupyter_client/session.py\u001b[0m in \u001b[0;36mrecv\u001b[0;34m(self, socket, mode, content, copy)\u001b[0m\n\u001b[1;32m    795\u001b[0m         \u001b[0;32mtry\u001b[0m\u001b[0;34m:\u001b[0m\u001b[0;34m\u001b[0m\u001b[0m\n\u001b[0;32m--> 796\u001b[0;31m             \u001b[0mmsg_list\u001b[0m \u001b[0;34m=\u001b[0m \u001b[0msocket\u001b[0m\u001b[0;34m.\u001b[0m\u001b[0mrecv_multipart\u001b[0m\u001b[0;34m(\u001b[0m\u001b[0mmode\u001b[0m\u001b[0;34m,\u001b[0m \u001b[0mcopy\u001b[0m\u001b[0;34m=\u001b[0m\u001b[0mcopy\u001b[0m\u001b[0;34m)\u001b[0m\u001b[0;34m\u001b[0m\u001b[0m\n\u001b[0m\u001b[1;32m    797\u001b[0m         \u001b[0;32mexcept\u001b[0m \u001b[0mzmq\u001b[0m\u001b[0;34m.\u001b[0m\u001b[0mZMQError\u001b[0m \u001b[0;32mas\u001b[0m \u001b[0me\u001b[0m\u001b[0;34m:\u001b[0m\u001b[0;34m\u001b[0m\u001b[0m\n",
      "\u001b[0;32m~/anaconda3/lib/python3.6/site-packages/zmq/sugar/socket.py\u001b[0m in \u001b[0;36mrecv_multipart\u001b[0;34m(self, flags, copy, track)\u001b[0m\n\u001b[1;32m    394\u001b[0m         \"\"\"\n\u001b[0;32m--> 395\u001b[0;31m         \u001b[0mparts\u001b[0m \u001b[0;34m=\u001b[0m \u001b[0;34m[\u001b[0m\u001b[0mself\u001b[0m\u001b[0;34m.\u001b[0m\u001b[0mrecv\u001b[0m\u001b[0;34m(\u001b[0m\u001b[0mflags\u001b[0m\u001b[0;34m,\u001b[0m \u001b[0mcopy\u001b[0m\u001b[0;34m=\u001b[0m\u001b[0mcopy\u001b[0m\u001b[0;34m,\u001b[0m \u001b[0mtrack\u001b[0m\u001b[0;34m=\u001b[0m\u001b[0mtrack\u001b[0m\u001b[0;34m)\u001b[0m\u001b[0;34m]\u001b[0m\u001b[0;34m\u001b[0m\u001b[0m\n\u001b[0m\u001b[1;32m    396\u001b[0m         \u001b[0;31m# have first part already, only loop while more to receive\u001b[0m\u001b[0;34m\u001b[0m\u001b[0;34m\u001b[0m\u001b[0m\n",
      "\u001b[0;32mzmq/backend/cython/socket.pyx\u001b[0m in \u001b[0;36mzmq.backend.cython.socket.Socket.recv (zmq/backend/cython/socket.c:7683)\u001b[0;34m()\u001b[0m\n",
      "\u001b[0;32mzmq/backend/cython/socket.pyx\u001b[0m in \u001b[0;36mzmq.backend.cython.socket.Socket.recv (zmq/backend/cython/socket.c:7460)\u001b[0;34m()\u001b[0m\n",
      "\u001b[0;32mzmq/backend/cython/socket.pyx\u001b[0m in \u001b[0;36mzmq.backend.cython.socket._recv_copy (zmq/backend/cython/socket.c:2344)\u001b[0;34m()\u001b[0m\n",
      "\u001b[0;32m~/anaconda3/lib/python3.6/site-packages/zmq/backend/cython/checkrc.pxd\u001b[0m in \u001b[0;36mzmq.backend.cython.checkrc._check_rc (zmq/backend/cython/socket.c:9621)\u001b[0;34m()\u001b[0m\n",
      "\u001b[0;31mKeyboardInterrupt\u001b[0m: ",
      "\nDuring handling of the above exception, another exception occurred:\n",
      "\u001b[0;31mKeyboardInterrupt\u001b[0m                         Traceback (most recent call last)",
      "\u001b[0;32m<ipython-input-129-878c30f810c6>\u001b[0m in \u001b[0;36m<module>\u001b[0;34m()\u001b[0m\n\u001b[0;32m----> 1\u001b[0;31m \u001b[0mnm\u001b[0m \u001b[0;34m=\u001b[0m \u001b[0minput\u001b[0m\u001b[0;34m(\u001b[0m\u001b[0;34m\"Enter month\"\u001b[0m\u001b[0;34m)\u001b[0m\u001b[0;34m\u001b[0m\u001b[0m\n\u001b[0m",
      "\u001b[0;32m~/anaconda3/lib/python3.6/site-packages/ipykernel/kernelbase.py\u001b[0m in \u001b[0;36mraw_input\u001b[0;34m(self, prompt)\u001b[0m\n\u001b[1;32m    703\u001b[0m             \u001b[0mself\u001b[0m\u001b[0;34m.\u001b[0m\u001b[0m_parent_ident\u001b[0m\u001b[0;34m,\u001b[0m\u001b[0;34m\u001b[0m\u001b[0m\n\u001b[1;32m    704\u001b[0m             \u001b[0mself\u001b[0m\u001b[0;34m.\u001b[0m\u001b[0m_parent_header\u001b[0m\u001b[0;34m,\u001b[0m\u001b[0;34m\u001b[0m\u001b[0m\n\u001b[0;32m--> 705\u001b[0;31m             \u001b[0mpassword\u001b[0m\u001b[0;34m=\u001b[0m\u001b[0;32mFalse\u001b[0m\u001b[0;34m,\u001b[0m\u001b[0;34m\u001b[0m\u001b[0m\n\u001b[0m\u001b[1;32m    706\u001b[0m         )\n\u001b[1;32m    707\u001b[0m \u001b[0;34m\u001b[0m\u001b[0m\n",
      "\u001b[0;32m~/anaconda3/lib/python3.6/site-packages/ipykernel/kernelbase.py\u001b[0m in \u001b[0;36m_input_request\u001b[0;34m(self, prompt, ident, parent, password)\u001b[0m\n\u001b[1;32m    733\u001b[0m             \u001b[0;32mexcept\u001b[0m \u001b[0mKeyboardInterrupt\u001b[0m\u001b[0;34m:\u001b[0m\u001b[0;34m\u001b[0m\u001b[0m\n\u001b[1;32m    734\u001b[0m                 \u001b[0;31m# re-raise KeyboardInterrupt, to truncate traceback\u001b[0m\u001b[0;34m\u001b[0m\u001b[0;34m\u001b[0m\u001b[0m\n\u001b[0;32m--> 735\u001b[0;31m                 \u001b[0;32mraise\u001b[0m \u001b[0mKeyboardInterrupt\u001b[0m\u001b[0;34m\u001b[0m\u001b[0m\n\u001b[0m\u001b[1;32m    736\u001b[0m             \u001b[0;32melse\u001b[0m\u001b[0;34m:\u001b[0m\u001b[0;34m\u001b[0m\u001b[0m\n\u001b[1;32m    737\u001b[0m                 \u001b[0;32mbreak\u001b[0m\u001b[0;34m\u001b[0m\u001b[0m\n",
      "\u001b[0;31mKeyboardInterrupt\u001b[0m: "
     ]
    }
   ],
   "source": [
    "nm = input(\"Enter month\")"
   ]
  },
  {
   "cell_type": "code",
   "execution_count": null,
   "metadata": {
    "collapsed": true
   },
   "outputs": [],
   "source": [
    "df1 = pd.read_csv('south_pen-India_rainfall_act_dep_1901_2016.csv')\n",
    "def max_rain():\n",
    "    for i in\n",
    "    return df1[df1['Actual Rainfall: JUN']==df1['Actual Rainfall: JUN'].max()][['YEAR']] \n",
    "max_rain()   "
   ]
  },
  {
   "cell_type": "code",
   "execution_count": 151,
   "metadata": {},
   "outputs": [
    {
     "ename": "SyntaxError",
     "evalue": "invalid syntax (<ipython-input-151-d45f4afeece5>, line 10)",
     "output_type": "error",
     "traceback": [
      "\u001b[0;36m  File \u001b[0;32m\"<ipython-input-151-d45f4afeece5>\"\u001b[0;36m, line \u001b[0;32m10\u001b[0m\n\u001b[0;31m    plt.plot(df['January 2009 (in millimetre)'],df['Sub-division'],marker='^', color=\"red\", label = 'Product 1')\u001b[0m\n\u001b[0m      ^\u001b[0m\n\u001b[0;31mSyntaxError\u001b[0m\u001b[0;31m:\u001b[0m invalid syntax\n"
     ]
    }
   ],
   "source": [
    "#Draw the rainfall graph from 2002 to 2011 for costal, south-interior and north interior Karnataka \n",
    "\n",
    "import numpy as np\n",
    "import matplotlib.pyplot as plt\n",
    "import pandas as pd\n",
    "\n",
    "df = pd.read_csv('METEOROLOGICAL_SUB_DIVISION_WISE_ANNUAL_RAINFALL.csv')\n",
    "df['2011']=df['January 2009 (in millimetre)'\n",
    "\n",
    "plt.plot(df['January 2009 (in millimetre)'],df['Sub-division'],marker='^', color=\"red\", label = 'Product 1')\n",
    "\n",
    "plt.xlabel(\"Rainfall\")\n",
    "\n",
    "\n",
    "# add legend\n",
    "plt.legend()\n",
    "\n",
    "#title\n",
    "plt.title(\"Rainfall\")\n",
    "\n",
    "p"
   ]
  },
  {
   "cell_type": "code",
   "execution_count": null,
   "metadata": {
    "collapsed": true
   },
   "outputs": [],
   "source": [
    "\n",
    "\n"
   ]
  },
  {
   "cell_type": "code",
   "execution_count": null,
   "metadata": {
    "collapsed": true
   },
   "outputs": [],
   "source": []
  },
  {
   "cell_type": "code",
   "execution_count": null,
   "metadata": {
    "collapsed": true
   },
   "outputs": [],
   "source": [
    "#Draw the stacked chart of rainfall for states Karnataka, Kerala, Goa, TN and AP for year 2002 to 2004."
   ]
  },
  {
   "cell_type": "code",
   "execution_count": null,
   "metadata": {
    "collapsed": true
   },
   "outputs": [],
   "source": []
  }
 ],
 "metadata": {
  "kernelspec": {
   "display_name": "Python 3",
   "language": "python",
   "name": "python3"
  },
  "language_info": {
   "codemirror_mode": {
    "name": "ipython",
    "version": 3
   },
   "file_extension": ".py",
   "mimetype": "text/x-python",
   "name": "python",
   "nbconvert_exporter": "python",
   "pygments_lexer": "ipython3",
   "version": "3.6.3"
  }
 },
 "nbformat": 4,
 "nbformat_minor": 2
}
